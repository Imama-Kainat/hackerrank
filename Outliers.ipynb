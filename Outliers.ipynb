{
  "nbformat": 4,
  "nbformat_minor": 0,
  "metadata": {
    "colab": {
      "provenance": [],
      "authorship_tag": "ABX9TyOJethO9rwmyuY/tGyc1j9a",
      "include_colab_link": true
    },
    "kernelspec": {
      "name": "python3",
      "display_name": "Python 3"
    },
    "language_info": {
      "name": "python"
    }
  },
  "cells": [
    {
      "cell_type": "markdown",
      "metadata": {
        "id": "view-in-github",
        "colab_type": "text"
      },
      "source": [
        "<a href=\"https://colab.research.google.com/github/Imama-Kainat/hackerrank/blob/main/Outliers.ipynb\" target=\"_parent\"><img src=\"https://colab.research.google.com/assets/colab-badge.svg\" alt=\"Open In Colab\"/></a>"
      ]
    },
    {
      "cell_type": "code",
      "execution_count": 1,
      "metadata": {
        "id": "JF_oFD0BjPOA"
      },
      "outputs": [],
      "source": [
        "import numpy as np\n",
        "import matplotlib.pyplot as plt\n",
        "%matplotlib inline\n",
        "#%matplotlib inline is used because after this we don't have to write plt.show command to visualize the graph."
      ]
    },
    {
      "cell_type": "code",
      "source": [
        "## Define data\n",
        "dataset=[25, 32, 38, 101, 55, 120, 41, 55, 41, 155, 41, 55, 41, 55, 41, 55, 41, 55, 41, 55, 41, 55]"
      ],
      "metadata": {
        "id": "54V86OM4j5mR"
      },
      "execution_count": 17,
      "outputs": []
    },
    {
      "cell_type": "code",
      "source": [
        "plt.hist(dataset)"
      ],
      "metadata": {
        "colab": {
          "base_uri": "https://localhost:8080/",
          "height": 482
        },
        "id": "DXlGvp92kRQX",
        "outputId": "552b9b8d-243c-49ee-dd6b-f6800f45ca24"
      },
      "execution_count": 18,
      "outputs": [
        {
          "output_type": "execute_result",
          "data": {
            "text/plain": [
              "(array([2., 9., 8., 0., 0., 1., 0., 1., 0., 1.]),\n",
              " array([ 25.,  38.,  51.,  64.,  77.,  90., 103., 116., 129., 142., 155.]),\n",
              " <BarContainer object of 10 artists>)"
            ]
          },
          "metadata": {},
          "execution_count": 18
        },
        {
          "output_type": "display_data",
          "data": {
            "text/plain": [
              "<Figure size 640x480 with 1 Axes>"
            ],
            "image/png": "[encoded data removed]"
          },
          "metadata": {}
        }
      ]
    },
    {
      "cell_type": "code",
      "source": [
        "# 1 Z-score\n",
        "# BOX plot\n",
        "# 5 summary point calculation\n",
        "outliers=[]\n",
        "def detect_outlier(data):\n",
        "  threshold=3 #3rd standard deviation\n",
        "  mean=np.mean(data)\n",
        "  std=np.std(data)\n",
        "  for i in data:\n",
        "    z_score=(i-mean)/std\n",
        "    if (np.abs(z_score)>threshold):\n",
        "      outliers.append(i)\n",
        "  return outliers"
      ],
      "metadata": {
        "id": "lrNDGoGMkU8s"
      },
      "execution_count": 19,
      "outputs": []
    },
    {
      "cell_type": "code",
      "source": [
        "detect_outlier(dataset)"
      ],
      "metadata": {
        "colab": {
          "base_uri": "https://localhost:8080/"
        },
        "id": "ooYxiPv0mQgm",
        "outputId": "6fa86fb3-d444-4d3f-886c-3e0ed3e06c9c"
      },
      "execution_count": 20,
      "outputs": [
        {
          "output_type": "execute_result",
          "data": {
            "text/plain": [
              "[155]"
            ]
          },
          "metadata": {},
          "execution_count": 20
        }
      ]
    },
    {
      "cell_type": "code",
      "source": [],
      "metadata": {
        "id": "U8CgWW_qmasP"
      },
      "execution_count": null,
      "outputs": []
    },
    {
      "cell_type": "markdown",
      "source": [
        "# IQR\n",
        "1. sort the data\n",
        "2. calculate Q1(25%) and Q3(75%)\n",
        "3. IQR(Q3-Q1)\n",
        "4. find the lower fence (q1-1.5(iqr))\n",
        "5. find the upper fence (q1+1.5(iqr))"
      ],
      "metadata": {
        "id": "PhZB-VAnm2B9"
      }
    },
    {
      "cell_type": "code",
      "source": [
        "##sort\n",
        "dataset=sorted(dataset)"
      ],
      "metadata": {
        "id": "7L6QqNlcnSZR"
      },
      "execution_count": 21,
      "outputs": []
    },
    {
      "cell_type": "code",
      "source": [
        "dataset"
      ],
      "metadata": {
        "colab": {
          "base_uri": "https://localhost:8080/"
        },
        "id": "PanKXoWgnhr4",
        "outputId": "9b336bad-8c1a-42f6-bc7f-78ff5f9e8a64"
      },
      "execution_count": 23,
      "outputs": [
        {
          "output_type": "execute_result",
          "data": {
            "text/plain": [
              "[25,\n",
              " 32,\n",
              " 38,\n",
              " 41,\n",
              " 41,\n",
              " 41,\n",
              " 41,\n",
              " 41,\n",
              " 41,\n",
              " 41,\n",
              " 41,\n",
              " 55,\n",
              " 55,\n",
              " 55,\n",
              " 55,\n",
              " 55,\n",
              " 55,\n",
              " 55,\n",
              " 55,\n",
              " 101,\n",
              " 120,\n",
              " 155]"
            ]
          },
          "metadata": {},
          "execution_count": 23
        }
      ]
    },
    {
      "cell_type": "code",
      "source": [
        "q1,q3=np.percentile(dataset,[25,75])\n",
        "#print(dataset)\n",
        "#q1\n",
        "print(q1,q3)"
      ],
      "metadata": {
        "colab": {
          "base_uri": "https://localhost:8080/"
        },
        "id": "SbysixpEnkW3",
        "outputId": "455283d4-2769-4e78-aa3d-0ff8b0327d1d"
      },
      "execution_count": 26,
      "outputs": [
        {
          "output_type": "stream",
          "name": "stdout",
          "text": [
            "41.0 55.0\n"
          ]
        }
      ]
    },
    {
      "cell_type": "code",
      "source": [
        "iqr=q3-q1\n",
        "iqr"
      ],
      "metadata": {
        "colab": {
          "base_uri": "https://localhost:8080/"
        },
        "id": "c4PhMuIdn0AF",
        "outputId": "6683a67f-5aaa-45f8-b0ad-278861dd5e4f"
      },
      "execution_count": 27,
      "outputs": [
        {
          "output_type": "execute_result",
          "data": {
            "text/plain": [
              "14.0"
            ]
          },
          "metadata": {},
          "execution_count": 27
        }
      ]
    },
    {
      "cell_type": "code",
      "source": [
        "#find the lower fence and upper fence\n",
        "lower_fence=q1-(1.5*iqr)\n",
        "upper_fence=q3+(1.5*iqr)\n",
        "print(lower_fence,upper_fence)"
      ],
      "metadata": {
        "colab": {
          "base_uri": "https://localhost:8080/"
        },
        "id": "Q7SAxMUPoIlS",
        "outputId": "9e3adcda-3622-4c95-b408-d237ebc4ed86"
      },
      "execution_count": 41,
      "outputs": [
        {
          "output_type": "stream",
          "name": "stdout",
          "text": [
            "20.0 76.0\n"
          ]
        }
      ]
    },
    {
      "cell_type": "code",
      "source": [
        "def detectOutlier(data,lower_fence,upper_fence):\n",
        "  for i in data:\n",
        "    if (i<lower_fence or i>upper_fence):\n",
        "       outliers.append(i)\n",
        "  return outliers\n",
        ""
      ],
      "metadata": {
        "id": "ibI8ZWP_oaKO"
      },
      "execution_count": 46,
      "outputs": []
    },
    {
      "cell_type": "code",
      "source": [
        "#detectOutlier(dataset,lower_fence,upper_fence)"
      ],
      "metadata": {
        "id": "rvUOMwKxpIWY"
      },
      "execution_count": 48,
      "outputs": []
    },
    {
      "cell_type": "code",
      "source": [
        "import seaborn as sns"
      ],
      "metadata": {
        "id": "05CBIl67pLHa"
      },
      "execution_count": 38,
      "outputs": []
    },
    {
      "cell_type": "code",
      "source": [
        "sns.boxplot(dataset)"
      ],
      "metadata": {
        "colab": {
          "base_uri": "https://localhost:8080/",
          "height": 430
        },
        "id": "8lmnBkEAp4cv",
        "outputId": "0f49a808-e9ee-4597-b0dc-73248fff29fa"
      },
      "execution_count": 39,
      "outputs": [
        {
          "output_type": "execute_result",
          "data": {
            "text/plain": [
              "<Axes: >"
            ]
          },
          "metadata": {},
          "execution_count": 39
        },
        {
          "output_type": "display_data",
          "data": {
            "text/plain": [
              "<Figure size 640x480 with 1 Axes>"
            ],
            "image/png": "[encoded data removed]"
          },
          "metadata": {}
        }
      ]
    },
    {
      "cell_type": "code",
      "source": [],
      "metadata": {
        "id": "JHuuO1E-p7zg"
      },
      "execution_count": null,
      "outputs": []
    }
  ]
}